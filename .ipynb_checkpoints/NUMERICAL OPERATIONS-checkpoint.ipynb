{
 "cells": [
  {
   "cell_type": "markdown",
   "id": "07ccd86f",
   "metadata": {},
   "source": [
    "## PYTHON : NUMERIC OPERATIONS"
   ]
  },
  {
   "cell_type": "code",
   "execution_count": 45,
   "id": "df916f86",
   "metadata": {},
   "outputs": [
    {
     "name": "stdout",
     "output_type": "stream",
     "text": [
      "28\n"
     ]
    }
   ],
   "source": [
    "#NUMERIC OPERATIONS\n",
    "def num_operations():\n",
    "    array_num = [1,2,3,4,5,6,7]\n",
    "    sum = 0\n",
    "    for i in range (0,7,1):\n",
    "        sum = sum + array_num[i]\n",
    "    \n",
    "    print(sum)\n",
    "\n",
    "num_operations()"
   ]
  },
  {
   "cell_type": "code",
   "execution_count": 1,
   "id": "31b3ae2e",
   "metadata": {},
   "outputs": [
    {
     "name": "stdout",
     "output_type": "stream",
     "text": [
      " Enter number of elements 5\n",
      " 34\n",
      "[34]\n",
      "34\n",
      "35\n",
      "[34, 35]\n",
      "69\n",
      "36\n",
      "[34, 35, 36]\n",
      "105\n",
      "37\n",
      "[34, 35, 36, 37]\n",
      "142\n",
      "20\n",
      "[34, 35, 36, 37, 20]\n",
      "162\n",
      "Therefore the total sum is  162\n"
     ]
    }
   ],
   "source": [
    "#To find the sum of n numbers\n",
    "def add_operations():\n",
    "    num = []\n",
    "    sum = 0\n",
    "    numOfElements = int(input(\" Enter number of elements\"))\n",
    "    for i in range (0, numOfElements):\n",
    "        toList =  int(input())\n",
    "        num.append(toList)\n",
    "        print(num)\n",
    "        sum += num[i]\n",
    "        print(sum)\n",
    "        \n",
    "    print(\"Therefore the total sum is \", sum)\n",
    "    \n",
    "add_operations()\n",
    "    "
   ]
  },
  {
   "cell_type": "code",
   "execution_count": 3,
   "id": "7ef14796",
   "metadata": {},
   "outputs": [
    {
     "name": "stdout",
     "output_type": "stream",
     "text": [
      " Enter number of elements  4\n",
      "2\n",
      "[2]\n",
      "2\n",
      "3\n",
      "[2, 3]\n",
      "6\n",
      "4\n",
      "[2, 3, 4]\n",
      "24\n",
      "5\n",
      "[2, 3, 4, 5]\n",
      "120\n",
      "Therefore the total multiplication is  120\n"
     ]
    }
   ],
   "source": [
    "#to find the mutiplication of n numbers\n",
    "def multiply_operations():\n",
    "    num = []\n",
    "    multiply = 1\n",
    "    numOfElements = int(input(\" Enter number of elements\"))\n",
    "    for i in range (0, numOfElements):\n",
    "        toList =  int(input())\n",
    "        num.append(toList)\n",
    "        print(num)\n",
    "        multiply *= num[i]\n",
    "        print(multiply)\n",
    "        \n",
    "    print(\"Therefore the total multiplication is \", multiply)\n",
    "    \n",
    "multiply_operations()"
   ]
  },
  {
   "cell_type": "code",
   "execution_count": 2,
   "id": "1013ce4e",
   "metadata": {},
   "outputs": [
    {
     "name": "stdout",
     "output_type": "stream",
     "text": [
      "Enter your value of x : 3\n",
      "20.085536923187668\n"
     ]
    }
   ],
   "source": [
    "#to find exponential\n",
    "import math\n",
    "def exponent_operations(x):\n",
    "        a = math.exp(x)\n",
    "        print(a)\n",
    "exponent_operations(int(input(\"Enter your value of x :\")))"
   ]
  },
  {
   "cell_type": "code",
   "execution_count": 23,
   "id": "0890a177",
   "metadata": {},
   "outputs": [
    {
     "name": "stdout",
     "output_type": "stream",
     "text": [
      "Enter a number  8\n",
      "40320\n"
     ]
    }
   ],
   "source": [
    "#to find factorial\n",
    "import math\n",
    "def factorial_operations():\n",
    "    \n",
    "    a = int(input(\"Enter a number\"))\n",
    "    fact = math.factorial(a)\n",
    "    print(fact)\n",
    "factorial_operations()\n",
    "\n",
    "    "
   ]
  },
  {
   "cell_type": "code",
   "execution_count": 43,
   "id": "d6641cbc",
   "metadata": {},
   "outputs": [
    {
     "name": "stdout",
     "output_type": "stream",
     "text": [
      "Enter a number:   121\n",
      "Therefore  121  is a perfect square, with a square root of 11\n"
     ]
    }
   ],
   "source": [
    "#to check if a number is a perfect square\n",
    "from math import sqrt\n",
    "def perfect_square():\n",
    "    num = int(input(\"Enter a number: \"))\n",
    "    \n",
    "    sq_root = int(sqrt(num))\n",
    "    \n",
    "    if (sq_root * sq_root ) == num:\n",
    "        print(\"Therefore \" ,num ,\" is a perfect square, with a square root of\", sq_root)\n",
    "    \n",
    "    else:\n",
    "        print(num ,\"is not a perfect square\")\n",
    "\n",
    "perfect_square()"
   ]
  },
  {
   "cell_type": "markdown",
   "id": "4c44e7ea",
   "metadata": {},
   "source": [
    "## PYTHON : PRIME FACTORS"
   ]
  },
  {
   "cell_type": "code",
   "execution_count": 51,
   "id": "0852dde0",
   "metadata": {},
   "outputs": [
    {
     "name": "stdout",
     "output_type": "stream",
     "text": [
      "Enter a number: 32\n",
      "32 is a not prime number\n"
     ]
    }
   ],
   "source": [
    "#to check if a number is prime\n",
    "from math import sqrt\n",
    "def prime_num():\n",
    "    \n",
    "    num = int(input(\"Enter a number: \"))\n",
    "  \n",
    "    \n",
    "    if num > 1:\n",
    "        for i in range (2, int(num/2) + 1):\n",
    "            if (num%i == 0):\n",
    "                print(num, \"is a not prime number\")\n",
    "                break\n",
    "            else:\n",
    "                print(num, \"is a prime number\")\n",
    "                break\n",
    "prime_num()"
   ]
  },
  {
   "cell_type": "markdown",
   "id": "6a9b8093",
   "metadata": {},
   "source": [
    "## PYTHON : NUMBER SERIES"
   ]
  },
  {
   "cell_type": "code",
   "execution_count": 4,
   "id": "e99d1228",
   "metadata": {},
   "outputs": [
    {
     "name": "stdout",
     "output_type": "stream",
     "text": [
      " Enter number of elements 5\n",
      "1\n",
      "2\n",
      "3\n",
      "4\n",
      "5\n",
      "[1, 2, 3, 4, 5] 5\n",
      "The common difference of the sequence is  1\n",
      "The first term of the sequence is 1\n",
      "Which term would you want to get? 8\n",
      "The  8 th term is  8\n",
      "The sum of the first 8 terms is  36.0 \n",
      "\n",
      "Enter the starting point:  6\n",
      "Enter the stopping point: 18\n",
      "Enter the step. Input zero if non: 1\n",
      "[6, 7, 8, 9, 10, 11, 12, 13, 14, 15, 16, 17]\n"
     ]
    }
   ],
   "source": [
    "#arithmetic sequence\n",
    "def arithmetic_sequence():\n",
    "    sequence = []\n",
    "    numOfElements = int(input(\" Enter number of elements\"))\n",
    "    for k in range (0, numOfElements):\n",
    "        toList =  int(input())\n",
    "        sequence.append(toList)\n",
    "    \n",
    "    print(sequence, len(sequence))\n",
    "    #common difference\n",
    "    d = sequence[1] - sequence[0]\n",
    "    print(\"The common difference of the sequence is \", d)\n",
    "    \n",
    "    #first term\n",
    "    a = sequence[0]\n",
    "    print(\"The first term of the sequence is\", a)\n",
    "    \n",
    "    n = int(input(\"Which term would you want to get?\"))\n",
    "    \n",
    "    #nth term\n",
    "    nth_term = a + ((n - 1)*d)\n",
    "    print(\"The \",n,\"th term is \", nth_term)\n",
    "\n",
    "\n",
    "\n",
    "    #sum of first n numbers\n",
    "    sum_nth = (n/2)*((2*a) + ((n-1)*d))\n",
    "    print(\"The sum of the first\", n ,\"terms is \", sum_nth, \"\\n\")\n",
    "\n",
    "\n",
    "\n",
    "    #ith to jth term\n",
    "    i = int(input(\"Enter the starting point: \"))\n",
    "    j = int(input(\"Enter the stopping point: \"))\n",
    "    s = int(input(\"Enter the step. Input zero if non: \"))\n",
    "    \n",
    "    n_sequence = []\n",
    "    for m in range (i,j,s):\n",
    "        mth_term = a + ((m - 1)*d)\n",
    "        n_sequence.append(mth_term)\n",
    "        \n",
    "    print(n_sequence)\n",
    "\n",
    "arithmetic_sequence()\n",
    "    \n",
    " \n"
   ]
  },
  {
   "cell_type": "code",
   "execution_count": 14,
   "id": "663d0779",
   "metadata": {},
   "outputs": [
    {
     "name": "stdout",
     "output_type": "stream",
     "text": [
      " Enter number of elements 5\n",
      "2\n",
      "4\n",
      "8\n",
      "16\n",
      "32\n",
      "[2, 4, 8, 16, 32] 5\n",
      "The common difference of the sequence is  2.0\n",
      "The first term of the sequence is 2\n",
      "Which term would you want to get? 6\n",
      "The  6 th term is  64.0\n",
      "The sum of the first 6 terms is  126.0 \n",
      "\n",
      "Enter the starting point:  2\n",
      "Enter the stopping point: 10\n",
      "Enter the step. Input zero if non, input 01\n",
      "[4.0, 8.0, 16.0, 32.0, 64.0, 128.0, 256.0, 512.0]\n"
     ]
    }
   ],
   "source": [
    "#geometric sequence\n",
    "import math\n",
    "def geometric_sequence():\n",
    "    sequence = []\n",
    "    numOfElements = int(input(\" Enter number of elements\"))\n",
    "    for k in range (0, numOfElements):\n",
    "        toList =  int(input())\n",
    "        sequence.append(toList)\n",
    "    \n",
    "    print(sequence, len(sequence))\n",
    "    #common ratio\n",
    "    r = sequence[1]/sequence[0]\n",
    "    print(\"The common difference of the sequence is \", r)\n",
    "    \n",
    "    #first term\n",
    "    a = sequence[0]\n",
    "    print(\"The first term of the sequence is\", a)\n",
    "    \n",
    "    n = int(input(\"Which term would you want to get?\"))\n",
    "    \n",
    "    #nth term\n",
    "    power_2 = pow(r,(n-1))\n",
    "    nth_term = (a * (power_2))\n",
    "    print(\"The \",n,\"th term is \", nth_term)\n",
    "\n",
    "\n",
    "\n",
    "    #sum of first n numbers\n",
    "    power_1 = pow(r,n)\n",
    "    sum_nth = (a * ((power_1)-1)/(r-1))\n",
    "    print(\"The sum of the first\", n ,\"terms is \", sum_nth, \"\\n\")\n",
    "\n",
    "\n",
    "\n",
    "    #ith to jth term\n",
    "    i = int(input(\"Enter the starting point: \"))\n",
    "    j = int(input(\"Enter the stopping point: \"))\n",
    "    s = int(input(\"Enter the step: \"))\n",
    "    \n",
    "    n_sequence = []\n",
    "    for m in range (i,j,s):\n",
    "        power_3 = pow(r,(m-1))\n",
    "        mth_term = (a * (power_3))\n",
    "        n_sequence.append(mth_term)\n",
    "        \n",
    "    print(n_sequence) \n",
    "\n",
    "geometric_sequence()\n",
    "    \n",
    " "
   ]
  },
  {
   "cell_type": "code",
   "execution_count": 58,
   "id": "dfd419f7",
   "metadata": {},
   "outputs": [
    {
     "name": "stdout",
     "output_type": "stream",
     "text": [
      "Which term would you like to get? 8\n",
      "21\n",
      "1\n",
      "2\n",
      "2\n",
      "4\n",
      "7\n",
      "12\n",
      "20\n",
      "33\n",
      "54\n",
      "Therefore the sum of the first  8 term is  54\n",
      "Enter the starting point: 10\n",
      "Enter the stopping point: 20\n",
      "Enter the step: 1\n",
      "[55, 89, 144, 233, 377, 610, 987, 1597, 2584, 4181, 6765]\n"
     ]
    }
   ],
   "source": [
    "#fibonacci sequence, using the formula\n",
    "from math import sqrt\n",
    "import math\n",
    "def fibonacci_sequence():\n",
    "    sum = 1\n",
    "    \n",
    "    \n",
    "    #to get nth term\n",
    "    n = int(input(\"Which term would you like to get? \"))\n",
    "    f_nth = int(((1/sqrt(5))*(pow(((1+sqrt(5))/2),n)) - (1/sqrt(5))*(pow(((1-sqrt(5))/2),n))))\n",
    "    print(f_nth)\n",
    "    \n",
    "\n",
    "    #to get sum of terms\n",
    "    for i in range (0,n+1):\n",
    "        sum += int(((1/sqrt(5))*(pow(((1+sqrt(5))/2),i)) - (1/sqrt(5))*(pow(((1-sqrt(5))/2),i))))\n",
    "        print(sum)\n",
    "        \n",
    "    print(\"Therefore the sum of the first \",n ,\"term is \",sum)\n",
    "    \n",
    "    \n",
    "    i = int(input(\"Enter the starting point: \"))\n",
    "    j = int(input(\"Enter the stopping point: \"))\n",
    "    s = int(input(\"Enter the step: \"))\n",
    "    n_sequence = []\n",
    "    for m in range (i,j+1,s):\n",
    "        f_nth = int(((1/sqrt(5))*(pow(((1+sqrt(5))/2),m)) - (1/sqrt(5))*(pow(((1-sqrt(5))/2),m))))\n",
    "        n_sequence.append(f_nth)\n",
    "        \n",
    "    print(n_sequence) \n",
    "fibonacci_sequence()"
   ]
  },
  {
   "cell_type": "markdown",
   "id": "ebb73ee6",
   "metadata": {},
   "source": [
    "## PYTHON : ALGEBRAIC EQUATIONS"
   ]
  },
  {
   "cell_type": "code",
   "execution_count": 1,
   "id": "a0ba6e7f",
   "metadata": {},
   "outputs": [
    {
     "name": "stdout",
     "output_type": "stream",
     "text": [
      "Enter your value of a2\n",
      "Enter your value of b+5\n",
      "Enter your value of e6\n",
      "Enter your value of c6\n",
      "Enter your value of d-3\n",
      "Enter your value of f9\n",
      "2 x 5 y =  6\n",
      "6 x -3 y =  9\n",
      "Therefore your values of x and y are  1.75  and  0.5\n"
     ]
    }
   ],
   "source": [
    "def simultaneous_equation():\n",
    "    a = int(input(\"Enter your value of a\"))\n",
    "    b = int(input(\"Enter your value of b\"))\n",
    "    e = int(input(\"Enter your value of e\"))\n",
    "    c = int(input(\"Enter your value of c\"))\n",
    "    d = int(input(\"Enter your value of d\"))\n",
    "    f = int(input(\"Enter your value of f\"))\n",
    "    \n",
    "    #equation layout\n",
    "    print(a,\"x\", b,\"y = \", e)\n",
    "    print(c,\"x\", d,\"y = \", f)\n",
    "    \n",
    "    #using substitution method\n",
    "    y = ((c*e) - (f*a))/((c*b) - (a*d))\n",
    "    x = (e - (b*y))/a\n",
    "    \n",
    "    print(\"Therefore your values of x and y are \", x ,\" and \", y)\n",
    "simultaneous_equation()"
   ]
  },
  {
   "cell_type": "code",
   "execution_count": 71,
   "id": "66d8e227",
   "metadata": {},
   "outputs": [
    {
     "name": "stdout",
     "output_type": "stream",
     "text": [
      "Enter your value of a  1\n",
      "Enter your value of b -4\n",
      "Enter your value of c 4\n",
      "2.0 2.0\n"
     ]
    }
   ],
   "source": [
    "from math import sqrt\n",
    "def quadratic_equation():\n",
    "    a = int(input(\"Enter your value of a\"))\n",
    "    b = int(input(\"Enter your value of b\"))\n",
    "    c = int(input(\"Enter your value of c\"))\n",
    "    \n",
    "    x1 = (-b+(sqrt((pow(b,2)) - (4*a*c))))/(2*a)\n",
    "    x2 = (-b-(sqrt((pow(b,2)) - (4*a*c))))/(2*a)\n",
    "          \n",
    "    print(x1, x2)\n",
    "quadratic_equation()"
   ]
  },
  {
   "cell_type": "code",
   "execution_count": 13,
   "id": "1e46acc0",
   "metadata": {},
   "outputs": [
    {
     "name": "stdout",
     "output_type": "stream",
     "text": [
      "Enter your value of a: 3\n",
      "Enter your value of b: 4\n",
      "Enter your value of c: 2\n",
      "Enter your value of d: -4\n",
      "(5+0j)\n",
      "(1+8j)\n",
      "(22-4j)\n",
      "(-0.5+1j)\n",
      "Enter a negative number-7\n",
      "2.6457513110645907j\n",
      "(-7+24j) (-12-16j)\n"
     ]
    }
   ],
   "source": [
    "from math import sqrt\n",
    "import cmath\n",
    "def complex_numbers():\n",
    "    a = int(input(\"Enter your value of a: \"))\n",
    "    b = int(input(\"Enter your value of b: \"))\n",
    "    c = int(input(\"Enter your value of c: \"))\n",
    "    d = int(input(\"Enter your value of d: \"))\n",
    "    \n",
    "    cnum_1 = complex(a,b)\n",
    "    cnum_2 = complex(c,d)\n",
    "\n",
    "    #sum\n",
    "    sum = cnum_1 + cnum_2\n",
    "    print(sum)\n",
    "    \n",
    "    #subtract\n",
    "    sub = cnum_1 - cnum_2\n",
    "    print(sub)\n",
    "    \n",
    "    #multiply\n",
    "    mul = cnum_1 * cnum_2\n",
    "    print(mul)\n",
    "    \n",
    "    #division\n",
    "    div = cnum_1/cnum_2\n",
    "    print(div)\n",
    "\n",
    "    #square root of negative\n",
    "    e = int(input(\"Enter a negative number\"))\n",
    "    n_sqrt = cmath.sqrt(e)\n",
    "    print(n_sqrt)\n",
    "    \n",
    "    #square of complex\n",
    "    square_1 = pow(cnum_1, 2)\n",
    "    square_2 = pow(cnum_2, 2)\n",
    "    \n",
    "    print(square_1,  square_2)\n",
    "    \n",
    "complex_numbers()"
   ]
  },
  {
   "cell_type": "code",
   "execution_count": 30,
   "id": "467d7cd3",
   "metadata": {},
   "outputs": [
    {
     "name": "stdout",
     "output_type": "stream",
     "text": [
      "Enter your desired number:  567893849\n",
      "Enter number of digits: 9\n",
      "Enter digit 5\n",
      "[5]\n",
      "120\n",
      "Enter digit 6\n",
      "[5, 6]\n",
      "840\n",
      "Enter digit 7\n",
      "[5, 6, 7]\n",
      "5880\n",
      "Enter digit 8\n",
      "[5, 6, 7, 8]\n",
      "46200\n",
      "Enter digit 9\n",
      "[5, 6, 7, 8, 9]\n",
      "409080\n",
      "Enter digit 3\n",
      "[5, 6, 7, 8, 9, 3]\n",
      "409086\n",
      "Enter digit 8\n",
      "[5, 6, 7, 8, 9, 3, 8]\n",
      "449406\n",
      "Enter digit 4\n",
      "[5, 6, 7, 8, 9, 3, 8, 4]\n",
      "449430\n",
      "Enter digit 9\n",
      "[5, 6, 7, 8, 9, 3, 8, 4, 9]\n",
      "812310\n",
      "This is not a strong number\n"
     ]
    }
   ],
   "source": [
    "import math\n",
    "def special_numbers():\n",
    "    digits = []\n",
    "    fact_sum = 0\n",
    "    number = int(input(\"Enter your desired number: \"))\n",
    "    numOfdigits = int(input(\"Enter number of digits: \"))\n",
    "    for i in range (0, numOfdigits):\n",
    "        toList =  int(input(\"Enter digit \"))\n",
    "        digits.append(toList)\n",
    "        print(digits)\n",
    "        fact_sum += math.factorial(digits[i])\n",
    "        print(fact_sum)\n",
    "    \n",
    "    if fact_sum == number:\n",
    "        print(\"This number is a strong number!\")\n",
    "    else:\n",
    "        print(\"This is not a strong number\")\n",
    "special_numbers()"
   ]
  },
  {
   "cell_type": "code",
   "execution_count": 55,
   "id": "4c9219e7",
   "metadata": {},
   "outputs": [
    {
     "name": "stdout",
     "output_type": "stream",
     "text": [
      "Enter a number: 235678\n",
      "1\n",
      "2\n",
      "117839\n",
      "This is not a perfect number\n"
     ]
    }
   ],
   "source": [
    "from functools import reduce\n",
    "\n",
    "def factors():\n",
    "    factors = []\n",
    "    sum = 0\n",
    "    n = int(input(\"Enter a number: \"))\n",
    "    \n",
    "    for i in range (1,n):\n",
    "        if (n%i) == 0:\n",
    "            print(i)\n",
    "            sum += i\n",
    "        \n",
    "    if sum == n:\n",
    "        print(\"This is a perfect number\")\n",
    "    else:\n",
    "        print(\"This is not a perfect number\")\n",
    "    #return set(reduce(list.__add__,([i,n//i] for i in range(1,int(n**0.5) + 1):if n % i == 0)))\n",
    "    \n",
    "factors()"
   ]
  },
  {
   "cell_type": "code",
   "execution_count": 58,
   "id": "8d85fb77",
   "metadata": {},
   "outputs": [
    {
     "name": "stdout",
     "output_type": "stream",
     "text": [
      "Enter your desired number: 123\n",
      "Enter number of digits: 3\n",
      "Enter digit 1\n",
      "[1]\n",
      "1\n",
      "Enter digit 2\n",
      "[1, 2]\n",
      "9\n",
      "Enter digit 3\n",
      "[1, 2, 3]\n",
      "36\n",
      "This is not an armstrong number\n"
     ]
    }
   ],
   "source": [
    "import math\n",
    "def armstrong_numbers():\n",
    "    digits = []\n",
    "    sum = 0\n",
    "    number = int(input(\"Enter your desired number: \"))\n",
    "    numOfdigits = int(input(\"Enter number of digits: \"))\n",
    "    for i in range (0, numOfdigits):\n",
    "        toList =  int(input(\"Enter digit \"))\n",
    "        digits.append(toList)\n",
    "        print(digits)\n",
    "        sum += pow(digits[i],numOfdigits)\n",
    "        print(sum)\n",
    "    \n",
    "    if sum == number:\n",
    "        print(\"This number is an armstrong number!\")\n",
    "    else:\n",
    "        print(\"This is not an armstrong number\")\n",
    "armstrong_numbers()"
   ]
  },
  {
   "cell_type": "markdown",
   "id": "c3faadc2",
   "metadata": {},
   "source": [
    "## PYTHON : BINARY OPERATIONS"
   ]
  },
  {
   "cell_type": "code",
   "execution_count": 34,
   "id": "8f1fdca1",
   "metadata": {},
   "outputs": [
    {
     "name": "stdout",
     "output_type": "stream",
     "text": [
      "Enter your number in base 2: 10000011\n",
      "The decimal value is:  131\n"
     ]
    }
   ],
   "source": [
    "#from base 2 to 10\n",
    "\n",
    "def base2To10():\n",
    "   \n",
    "    binary_num = input(\"Enter your number in base 2: \")\n",
    "    try:\n",
    "        decimal = int(binary_num,2)\n",
    "        print(\"The decimal value is: \",decimal)\n",
    "    except ValueError:\n",
    "        print(\"Invalid binary input\")\n",
    "base2To10() \n"
   ]
  },
  {
   "cell_type": "code",
   "execution_count": 37,
   "id": "9739d0a6",
   "metadata": {},
   "outputs": [
    {
     "name": "stdout",
     "output_type": "stream",
     "text": [
      "Enter your number in base 10: 131\n",
      "1\n",
      "1\n",
      "0\n",
      "0\n",
      "0\n",
      "0\n",
      "0\n",
      "1\n",
      "[1, 0, 0, 0, 0, 0, 1, 1] base 2\n",
      "[65, 32, 16, 8, 4, 2, 1, 0]\n"
     ]
    }
   ],
   "source": [
    "#from base 10 to 2\n",
    "def base10to2():\n",
    "    binary = []\n",
    "    divisors = []\n",
    "    num = int(input(\"Enter your number in base 10: \"))\n",
    "    #numOfdigits = int(input(\"Enter the number of digts: \"))\n",
    "    b_value = bin(num)\n",
    "    for i in range (0,num):\n",
    "        div = divmod(num,2)\n",
    "        print(div[1])\n",
    "        \n",
    "        #div[0] are the divisors\n",
    "        #div[1] are the remainders\n",
    "        \n",
    "        new_num = div[0]\n",
    "        num = new_num\n",
    "        \n",
    "        binary.append(div[1])\n",
    "        divisors.append(div[0])\n",
    "     \n",
    "        if new_num < 1:\n",
    "            break\n",
    "    binary.reverse()\n",
    "    print(binary,\"base 2\")\n",
    "    print(divisors)\n",
    "    \n",
    "base10to2()"
   ]
  },
  {
   "cell_type": "code",
   "execution_count": 24,
   "id": "05682452",
   "metadata": {},
   "outputs": [
    {
     "name": "stdout",
     "output_type": "stream",
     "text": [
      "1\n",
      "(2, 1) 0b101\n"
     ]
    }
   ],
   "source": [
    "n = 5\n",
    "div = divmod(5,2)\n",
    "print(div[1])\n",
    "binary = bin(n)\n",
    "print(div, binary)"
   ]
  },
  {
   "cell_type": "code",
   "execution_count": 56,
   "id": "29ca1a50",
   "metadata": {},
   "outputs": [
    {
     "name": "stdout",
     "output_type": "stream",
     "text": [
      "Enter a decimal value: 29\n",
      "The binary value is:  0b11101\n",
      "Enter a decimal value: 29\n",
      "The octal value is:  0o35\n",
      "Enter an octal value: 35\n",
      "The decimal value is:  29\n",
      "Enter a decimal value: 29\n",
      "The hexadecimal value is:  0x1d\n",
      "Enter a hexadecimal value: 1d\n",
      "The decimal value is:  29\n"
     ]
    }
   ],
   "source": [
    "\n",
    "#from decimal to binary\n",
    "decimal_value = int(input(\"Enter a decimal value: \"))\n",
    "try:\n",
    "        binary = bin(decimal_value)\n",
    "        print(\"The binary value is: \",binary)\n",
    "        \n",
    "except ValueError:\n",
    "        print(\"Invalid decimal input\")\n",
    "        \n",
    "#from decimal to octal\n",
    "decimal_value = int(input(\"Enter a decimal value: \"))\n",
    "try:\n",
    "        octal = oct(decimal_value)\n",
    "        print(\"The octal value is: \",octal)\n",
    "        \n",
    "except ValueError:\n",
    "        print(\"Invalid decimal input\")\n",
    "\n",
    "#from octal to decimal\n",
    "octal_value = input(\"Enter an octal value: \")\n",
    "try:\n",
    "        decimal = int(octal_value, 8)\n",
    "        print(\"The decimal value is: \",decimal)\n",
    "        \n",
    "except ValueError:\n",
    "        print(\"Invalid octal input\")\n",
    "        \n",
    "\n",
    "#from decimal to hexadecimal\n",
    "decimal_value = int(input(\"Enter a decimal value: \"))\n",
    "try:\n",
    "        hexa = hex(decimal_value)\n",
    "        print(\"The hexadecimal value is: \",hexa)\n",
    "        \n",
    "except ValueError:\n",
    "        print(\"Invalid decimal input\")\n",
    "        \n",
    "#from hexadecimal to decimal\n",
    "hdecimal_value = input(\"Enter a hexadecimal value: \")\n",
    "try:\n",
    "        decimal = int(hdecimal_value,16)\n",
    "        print(\"The decimal value is: \",decimal)\n",
    "        \n",
    "except ValueError:\n",
    "        print(\"Invalid hexadecimal input\")"
   ]
  },
  {
   "cell_type": "markdown",
   "id": "62cca560",
   "metadata": {},
   "source": [
    "## CALCULATIONS\n"
   ]
  },
  {
   "cell_type": "code",
   "execution_count": 59,
   "id": "5a3b6cad",
   "metadata": {},
   "outputs": [
    {
     "name": "stdout",
     "output_type": "stream",
     "text": [
      "Enter your principal: 56790\n",
      "Enter your rate in decimal: .7\n",
      "Enter your time in years: 6\n",
      "Therefore the SI with a principal  56790 and rate  0.7  in  6 years is  2385.18  amounting to  59175.18\n"
     ]
    }
   ],
   "source": [
    "def simple_interest():\n",
    "    p = int(input(\"Enter your principal: \"))\n",
    "    r = float(input(\"Enter your rate in decimal: \"))\n",
    "    t = int(input(\"Enter your time in years: \"))\n",
    "    \n",
    "    SI = (p*r*t)/100\n",
    "    a = p + SI\n",
    "    print(\"Therefore the SI with a principal \",p, \"and rate \",r,\" in \",t,\"years is \",SI, \" amounting to \",a)\n",
    "simple_interest()    "
   ]
  },
  {
   "cell_type": "code",
   "execution_count": 60,
   "id": "380d7c11",
   "metadata": {},
   "outputs": [
    {
     "name": "stdout",
     "output_type": "stream",
     "text": [
      "Enter your principal:  100000\n",
      "Enter your rate in decimal: 0.4\n",
      "Enter your time in years: 5\n",
      "The amount is  102016.0641281024\n",
      "The compound intersest is  2016.0641281024\n"
     ]
    }
   ],
   "source": [
    "def compound_interest():\n",
    "    p = int(input(\"Enter your principal: \"))\n",
    "    r = float(input(\"Enter your rate in decimal: \"))\n",
    "    t = int(input(\"Enter your time in years: \"))\n",
    "    \n",
    "    a = p * (pow((1+(r/100)),t))\n",
    "    \n",
    "    ci = a - p\n",
    "    \n",
    "    print(\"The amount is \", a)\n",
    "    print(\"The compound intersest is \",ci)\n",
    "compound_interest()"
   ]
  },
  {
   "cell_type": "code",
   "execution_count": 12,
   "id": "c865ad63",
   "metadata": {},
   "outputs": [
    {
     "name": "stdout",
     "output_type": "stream",
     "text": [
      "Enter your weight in kg: 120\n",
      "Enter your height in m: 2.0\n",
      "Therefore, your BMI is 30\n",
      "You are obese! Work out more ei?\n"
     ]
    }
   ],
   "source": [
    "def bmi():\n",
    "    weight = float(input(\"Enter your weight in kg: \"))\n",
    "    height = float(input(\"Enter your height in m: \"))\n",
    "    bmi = int((weight)/pow(height,2))\n",
    "    \n",
    "    print(\"Therefore, your BMI is\" , bmi)\n",
    "    \n",
    "    if bmi < 18.5:\n",
    "        print(\"You would need to start eating, you are underweight!\")\n",
    "    elif (bmi >= 18.5 and bmi <= 24.9):\n",
    "        print(\"You are healthy, *smiles*\")\n",
    "    elif (bmi >= 25.0 and bmi <= 29.9):\n",
    "        print(\"You are overweigth, oops!\")\n",
    "    elif bmi >= 30.0:\n",
    "        print(\"You are obese! Work out more ei?\")\n",
    "    else:\n",
    "        print(\"Invalid values\")\n",
    "bmi()"
   ]
  },
  {
   "cell_type": "markdown",
   "id": "80881b06",
   "metadata": {},
   "source": [
    "## GEOMETRY"
   ]
  },
  {
   "cell_type": "code",
   "execution_count": 11,
   "id": "5b8e8542",
   "metadata": {},
   "outputs": [
    {
     "name": "stdout",
     "output_type": "stream",
     "text": [
      "Enter your value of x1: 7\n",
      "Enter your value of x2: 8\n",
      "Enter your value of y1: 8\n",
      "Enter your value of y2: 3\n",
      "The distance between the two points is :  5.0990195135927845\n"
     ]
    }
   ],
   "source": [
    "from math import sqrt\n",
    "def distance_btw_twoPoints():\n",
    "    x1 = float(input(\"Enter your value of x1: \"))\n",
    "    x2 = float(input(\"Enter your value of x2: \"))\n",
    "    y1 = float(input(\"Enter your value of y1: \"))\n",
    "    y2 = float(input(\"Enter your value of y2: \"))\n",
    "    distance = sqrt(pow((x2-x1),2) + pow((y2-y1),2))\n",
    "    print(\"The distance between the two points is : \",distance)\n",
    "distance_btw_twoPoints()"
   ]
  },
  {
   "cell_type": "code",
   "execution_count": 2,
   "id": "7805a960",
   "metadata": {},
   "outputs": [
    {
     "name": "stdout",
     "output_type": "stream",
     "text": [
      "Which side would you be looking for?opp\n",
      "Enter your value of hypotenuse:  3\n",
      "Enter your value of adjacent:   4\n",
      "The value of opposite is:  2.6457513110645907\n"
     ]
    }
   ],
   "source": [
    "from math import sqrt\n",
    "def third_side():\n",
    "    side = input(\"Which side would you be looking for?\")\n",
    "    \n",
    "    #opposite\n",
    "    if side == \"opp\":\n",
    "        hyp = float(input(\"Enter your value of hypotenuse: \"))\n",
    "        adj = float(input(\"Enter your value of adjacent: \"))\n",
    "        \n",
    "        if adj > hyp:\n",
    "            opp = sqrt(pow(adj,2) - pow(hyp,2))\n",
    "        else:\n",
    "            opp = sqrt(pow(hyp,2) - pow(adj,2))\n",
    "            \n",
    "        print(\"The value of opposite is: \",opp)\n",
    "    \n",
    "   #adjacent\n",
    "    elif side == \"adj\":\n",
    "        opp = float(input(\"Enter your value of opposite: \"))\n",
    "        hyp = float(input(\"Enter your value of hypotenuse: \"))\n",
    "    \n",
    "        if opp > hyp:\n",
    "            adj = sqrt(pow(opp,2) - pow(hyp,2))\n",
    "        else:\n",
    "            adj = sqrt(pow(hyp,2) - pow(opp,2))\n",
    "        \n",
    "        print(\"The value of adjacent is: \",adj)\n",
    "    \n",
    "    #hypotenuse\n",
    "    elif side == \"hyp\":\n",
    "        opp = float(input(\"Enter your value of opposite: \"))\n",
    "        adj = float(input(\"Enter your value of adjacent: \"))\n",
    "        \n",
    "        hyp = sqrt(pow(opp,2) + pow(adj,2))\n",
    "        \n",
    "        print(\"The value of hypotenuse is: \",hyp)\n",
    "   \n",
    "third_side()"
   ]
  },
  {
   "cell_type": "code",
   "execution_count": 3,
   "id": "354cb029",
   "metadata": {},
   "outputs": [
    {
     "name": "stdout",
     "output_type": "stream",
     "text": [
      "Enter the value of the first angle:  67.89\n",
      "Enter the value of the second angle:  34.56\n",
      "The value of the third angle is:  77.55\n"
     ]
    }
   ],
   "source": [
    "def third_angle():\n",
    "    first_angle = float(input(\"Enter the value of the first angle: \"))\n",
    "    second_angle = float(input(\"Enter the value of the second angle: \"))\n",
    "    \n",
    "    third_angle = 180 - (first_angle + second_angle)\n",
    "    \n",
    "    print(\"The value of the third angle is: \", third_angle)\n",
    "third_angle()"
   ]
  },
  {
   "cell_type": "code",
   "execution_count": null,
   "id": "f45935f0",
   "metadata": {},
   "outputs": [],
   "source": [
    "from math import sqrt\n",
    "def area_threeSidesGiven():\n",
    "    #herons' formula\n",
    "    a = float(input(\"Enter our value of a: \"))\n",
    "    b = float(input(\"Enter our value of b: \"))\n",
    "    c = float(input(\"Enter our value of c: \"))\n",
    "    \n",
    "    s = (a + b + c)/2\n",
    "    area = sqrt(s*(s-a)*(s-b)*(s-c))\n",
    "    \n",
    "    print(\"The area of the triangle is: \", area)\n",
    "area_threeSidesGiven()   "
   ]
  },
  {
   "cell_type": "code",
   "execution_count": 1,
   "id": "c8f4eb5b",
   "metadata": {},
   "outputs": [
    {
     "name": "stdout",
     "output_type": "stream",
     "text": [
      "Enter our value of a:  2\n",
      "Enter our value of b: 4\n",
      "The area of the triangle is:  4.0\n"
     ]
    }
   ],
   "source": [
    "def area_right_angled():\n",
    "    \n",
    "    a = float(input(\"Enter our value of a: \"))\n",
    "    b = float(input(\"Enter our value of b: \"))\n",
    "    \n",
    "    area = 0.5 * a * b\n",
    "    \n",
    "    print(\"The area of the triangle is: \", area)\n",
    "area_right_angled()   "
   ]
  },
  {
   "cell_type": "code",
   "execution_count": 2,
   "id": "6451efc6",
   "metadata": {},
   "outputs": [
    {
     "name": "stdout",
     "output_type": "stream",
     "text": [
      "Enter our value of a: 7\n",
      "The perimeter of the square is:  28.0\n"
     ]
    }
   ],
   "source": [
    "def square():\n",
    "    #perimiter\n",
    "    a = float(input(\"Enter our value of a: \"))\n",
    "    \n",
    "    perimeter = 4 * a\n",
    "    \n",
    "    print(\"The perimeter of the square is: \",perimeter)\n",
    "square()"
   ]
  },
  {
   "cell_type": "markdown",
   "id": "2d4af6ae",
   "metadata": {},
   "source": [
    "## VECTORS"
   ]
  },
  {
   "cell_type": "code",
   "execution_count": null,
   "id": "6ffe8ee8",
   "metadata": {},
   "outputs": [
    {
     "name": "stdout",
     "output_type": "stream",
     "text": [
      "The sum - [17 30]\n",
      "The subtraction - [ 5 -4]\n",
      "The multiplication - [ 66 221]\n",
      "Scalar dot product - 287\n",
      "This is not an orthogonal vector\n"
     ]
    }
   ],
   "source": [
    "import numpy as np\n",
    "from math import sqrt\n",
    "import math\n",
    "def vectors():\n",
    "    sum = 0 \n",
    "    vec_1 = [11,13] #values of x\n",
    "    vec_2 = [6,17]  #value of y\n",
    "    \n",
    "    vector_1 = np.array(vec_1)\n",
    "    vector_2 = np.array(vec_2)\n",
    "    \n",
    "    #sum\n",
    "    sum = vector_1 + vector_2\n",
    "    print(\"The sum -\",sum)\n",
    "    \n",
    "    #subtraction\n",
    "    sub = vector_1 - vector_2\n",
    "    print(\"The subtraction -\",sub)\n",
    "    \n",
    "    #multplication\n",
    "    mul = vector_1 * vector_2\n",
    "    print(\"The multiplication -\",mul)\n",
    "    \n",
    "    #dot product\n",
    "    d_product = vector_1.dot(vector_2)\n",
    "    print(\"Scalar dot product -\",d_product)\n",
    "    \n",
    "    if d_product == 0:\n",
    "        print(\"This is an orthogonal vector\")\n",
    "    else:\n",
    "        print(\"This is not an orthogonal vector\")\n",
    "    #scalar multiplication\n",
    "    scalar = float(input(\"Enter the scalar value: \"))\n",
    "    s_mul = scalar * vector_1\n",
    "    print(\"Scalar Multiplication -\",s_mul)\n",
    "    \n",
    "  \n",
    "    #magnitude\n",
    "    magnitude = np.linalg.norm(vector_1)\n",
    "    print(\"Magnitude -\",magnitude)\n",
    "    \n",
    "    #unit vector\n",
    "    unit_vector = vector_1/magnitude\n",
    "    print(\"Unit vector-\", unit_vector)\n",
    "    \n",
    "    #cross prodcut\n",
    "    cross_product = np.cross(vector_1,vector_2)\n",
    "    print(\"Cross product -\", cross_product)\n",
    "vectors()"
   ]
  },
  {
   "cell_type": "markdown",
   "id": "89c958c8",
   "metadata": {},
   "source": [
    "### MATRIC"
   ]
  },
  {
   "cell_type": "code",
   "execution_count": 44,
   "id": "6e3061eb",
   "metadata": {},
   "outputs": [
    {
     "name": "stdout",
     "output_type": "stream",
     "text": [
      "[[1 2 1]\n",
      " [4 6 6]\n",
      " [1 2 4]]\n",
      "[[1 2 4]\n",
      " [4 8 9]\n",
      " [1 2 4]]\n",
      "SUM -\n",
      " [[ 2  4  5]\n",
      " [ 8 14 15]\n",
      " [ 2  4  8]]\n",
      "SUBTRACTION-\n",
      " [[ 0  0 -3]\n",
      " [ 0 -2 -3]\n",
      " [ 0  0  0]]\n",
      "Enter scalar value: \n",
      "5\n",
      "[[ 5 10  5]\n",
      " [20 30 30]\n",
      " [ 5 10 20]]\n",
      "[10 20 26]\n",
      "[34 68 94]\n",
      "[13 26 38]\n",
      "Determinant -\n",
      " 0\n",
      "Transpose -\n",
      " [[1 4 1]\n",
      " [2 6 2]\n",
      " [1 6 4]]\n",
      "Inverse -\n",
      " [[-2.          1.         -1.        ]\n",
      " [ 1.66666667 -0.5         0.33333333]\n",
      " [-0.33333333  0.          0.33333333]]\n"
     ]
    }
   ],
   "source": [
    "import math\n",
    "import numpy as np\n",
    "def matrix():\n",
    "    matrix_1 = [[1,2,1],[4,6,6],[1,2,4]]\n",
    "    matrix_2 = [[1,2,4],[4,8,9],[1,2,4]]\n",
    "   \n",
    "    n_matrix_1 = np.array(matrix_1)\n",
    "    n_matrix_2 = np.array(matrix_2)\n",
    "    \n",
    "    print(n_matrix_1)\n",
    "    print(n_matrix_2)\n",
    "    \n",
    "    #sum\n",
    "    sum = n_matrix_1 + n_matrix_2\n",
    "    print(\"SUM -\\n\",sum)\n",
    "    \n",
    "    #sub\n",
    "    sub = n_matrix_1 - n_matrix_2\n",
    "    print(\"SUBTRACTION-\\n\",sub)\n",
    "    \n",
    "    #scalar multiplication\n",
    "    scalar = int(input(\"Enter scalar value: \" \"\\n\"))\n",
    "    s_mul = scalar * n_matrix_1\n",
    "    print(s_mul)\n",
    "    \n",
    "    #multiplication\n",
    "    print(\"Multiplication -\\n\")\n",
    "    mul = [[0,0],[0,0],]\n",
    "    result = np.dot(n_matrix_1, n_matrix_2)\n",
    "    \n",
    "    for i in result:\n",
    "        print(i)\n",
    "\n",
    "    #det\n",
    "    determinant = int(np.linalg.det(mul))\n",
    "    print(\"Determinant -\\n\", determinant)\n",
    "    \n",
    "    #transpose\n",
    "    transpose = n_matrix_1.transpose()\n",
    "    print(\"Transpose -\\n\", transpose)\n",
    "    \n",
    "    #inverse\n",
    "    inverse = np.linalg.inv(n_matrix_1)\n",
    "    print(\"Inverse -\\n\", inverse)\n",
    "matrix()"
   ]
  },
  {
   "cell_type": "markdown",
   "id": "bb0a528d",
   "metadata": {},
   "source": [
    "## SET\n"
   ]
  },
  {
   "cell_type": "code",
   "execution_count": 53,
   "id": "91590f3b",
   "metadata": {},
   "outputs": [
    {
     "name": "stdout",
     "output_type": "stream",
     "text": [
      "{1, 2, 3, 6, 7, 8, 9, 10, 11, 12, 14, 113}\n",
      "set()\n",
      "{1, 2, 3, 6, 7, 8, 9}\n",
      "{1, 2, 3, 6, 7, 8, 9, 10, 11, 12, 14, 113}\n",
      "False\n",
      "False\n",
      "True\n"
     ]
    }
   ],
   "source": [
    "def set_theory():\n",
    "    set_1 = set((1,2,3,6,7,8,9))\n",
    "    set_2 = set((10,11,12,113,14))\n",
    "    \n",
    "    #union\n",
    "    set_union = set_1.union(set_2)\n",
    "    print(set_union)\n",
    "    \n",
    "    #intersection\n",
    "    set_intersection = set_1.intersection(set_2)\n",
    "    print(set_intersection)\n",
    "    \n",
    "    #differecnce\n",
    "    set_difference = set_1 - set_2\n",
    "    print(set_difference)\n",
    "    \n",
    "    #symmetric difference\n",
    "    symmetric = set_1 ^ set_2\n",
    "    print(symmetric)\n",
    "    \n",
    "    #subset\n",
    "    subset = set_1.issubset(set_2)\n",
    "    print(subset)\n",
    "    \n",
    "    #superset\n",
    "    superset = set_1.issuperset(set_2)\n",
    "    print(superset)\n",
    "    \n",
    "    #disjoint\n",
    "    disjoint = set_1.isdisjoint(set_2)\n",
    "    print(disjoint)\n",
    "set_theory()"
   ]
  },
  {
   "cell_type": "code",
   "execution_count": null,
   "id": "4c7f6822",
   "metadata": {},
   "outputs": [],
   "source": []
  }
 ],
 "metadata": {
  "kernelspec": {
   "display_name": "Python 3 (ipykernel)",
   "language": "python",
   "name": "python3"
  },
  "language_info": {
   "codemirror_mode": {
    "name": "ipython",
    "version": 3
   },
   "file_extension": ".py",
   "mimetype": "text/x-python",
   "name": "python",
   "nbconvert_exporter": "python",
   "pygments_lexer": "ipython3",
   "version": "3.9.7"
  }
 },
 "nbformat": 4,
 "nbformat_minor": 5
}
